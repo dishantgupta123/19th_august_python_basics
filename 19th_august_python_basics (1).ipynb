{
 "cells": [
  {
   "cell_type": "code",
   "execution_count": 1,
   "id": "aaef1e7e-f931-4154-9bbb-a389e86399c1",
   "metadata": {
    "tags": []
   },
   "outputs": [
    {
     "name": "stdout",
     "output_type": "stream",
     "text": [
      "Before swapping:- \n",
      "x= 5 y= 6\n",
      "After swapping:- \n",
      "x= 6 y= 5\n"
     ]
    }
   ],
   "source": [
    "## 1. Declare two variables, `x` and `y`, and assign them integer values. Swap the\n",
    "##    values of these variables without using any temporary variable.\n",
    "x = 5\n",
    "y = 6\n",
    "print(\"Before swapping:- \")\n",
    "print(\"x=\",x,\"y=\",y)\n",
    "x = x+y    ## here x willbe chaged from 5 to 11.\n",
    "y = x-y    ## here y will be changed from 6 to 11-6=5.\n",
    "x = x-y    ## here x changes to 11-5 = 6.\n",
    "print(\"After swapping:- \")\n",
    "print(\"x=\",x,\"y=\",y)"
   ]
  },
  {
   "cell_type": "code",
   "execution_count": 2,
   "id": "a6d24156-addc-475c-9c9b-0006cb12b6bd",
   "metadata": {
    "tags": []
   },
   "outputs": [
    {
     "name": "stdin",
     "output_type": "stream",
     "text": [
      "Enter the length of rectangle:-  45\n",
      "Enter the width of rectangle:-  2\n"
     ]
    },
    {
     "name": "stdout",
     "output_type": "stream",
     "text": [
      "area of rectangle of length 45.0 and width 2.0 is:-  90.0\n"
     ]
    }
   ],
   "source": [
    "#  2. Create a program that calculates the area of a rectangle. Take the length and\n",
    "#     width as inputs from the user and store them in variables. Calculate and\n",
    "#      display the area.\n",
    "lb = float(input(\"Enter the length of rectangle:- \"))    ### this is simple code explaining use of built in input() function\n",
    "wi = float(input(\"Enter the width of rectangle:- \"))\n",
    "print(\"area of rectangle of length\",lb,\"and width\",wi,\"is:- \", lb*wi)\n"
   ]
  },
  {
   "cell_type": "code",
   "execution_count": 3,
   "id": "8a68b6b0-1ae6-4eae-b798-e8f61fe31e99",
   "metadata": {
    "tags": []
   },
   "outputs": [
    {
     "name": "stdin",
     "output_type": "stream",
     "text": [
      "Enter the temperature in celsius :-  27\n"
     ]
    },
    {
     "name": "stdout",
     "output_type": "stream",
     "text": [
      "Temperature in fahrenheit corresponding to that of temperature in celsius 27.0 is:-  80.6 F\n"
     ]
    }
   ],
   "source": [
    "##  3. Write a Python program that converts temperatures from Celsius to\n",
    "##     Fahrenheit. Take the temperature in Celsius as input, store it in a variable,\n",
    "##     convert it to Fahrenheit, and display the result.\n",
    "temp_celsius = float(input(\"Enter the temperature in celsius :- \"))\n",
    "temp_fah = (1.8 * temp_celsius) + 32\n",
    "print(\"Temperature in fahrenheit corresponding to that of temperature in celsius\",temp_celsius,\"is:- \",temp_fah,\"F\")"
   ]
  },
  {
   "cell_type": "code",
   "execution_count": 6,
   "id": "779d1aab-3a86-4bfd-a970-44b3acd83918",
   "metadata": {
    "tags": []
   },
   "outputs": [
    {
     "name": "stdin",
     "output_type": "stream",
     "text": [
      "Enter your name:-  dishant gupta\n"
     ]
    },
    {
     "name": "stdout",
     "output_type": "stream",
     "text": [
      "Length of your name dishant gupta is:-  13\n"
     ]
    }
   ],
   "source": [
    "## 1. Write a Python program that takes a string as input and prints the length of\n",
    "##    the string.\n",
    "str = (input(\"Enter your name:- \"))\n",
    "length_str = len(str)     ### len() is a built in function used to find the length of string..\n",
    "print(\"Length of your name\",str,\"is:- \",length_str)"
   ]
  },
  {
   "cell_type": "code",
   "execution_count": 7,
   "id": "7369ba0e-99bc-482c-98e1-7893749dffec",
   "metadata": {
    "tags": []
   },
   "outputs": [
    {
     "name": "stdin",
     "output_type": "stream",
     "text": [
      "Enter any character/sentence you want to determine no of vowels:-  dishant\n"
     ]
    },
    {
     "name": "stdout",
     "output_type": "stream",
     "text": [
      "Number of vowels in given string:- 2\n"
     ]
    }
   ],
   "source": [
    "##  2. Create a program that takes a sentence from the user and counts the number\n",
    "##     of vowels (a, e, i, o, u) in the string.\n",
    "str = input(\"Enter any character/sentence you want to determine no of vowels:- \")\n",
    "\n",
    "## initializing count = 0 to keep track for number of vowels and then on finding any vowel, we count++.\n",
    "\n",
    "count = 0   \n",
    "for i in range(len(str)):\n",
    "    if(str[i] == 'a' or str[i] == 'e' or str[i] == 'i' or str[i] == 'o' or str[i] == 'u'):\n",
    "        count = count + 1\n",
    "        \n",
    "print(\"Number of vowels in given string:-\", count)"
   ]
  },
  {
   "cell_type": "code",
   "execution_count": 12,
   "id": "3f6318cd-7e4c-4abd-8511-679ff9c8f622",
   "metadata": {
    "tags": []
   },
   "outputs": [
    {
     "name": "stdin",
     "output_type": "stream",
     "text": [
      "Enter your name/any sentence you like :- \n",
      "  rohan\n"
     ]
    },
    {
     "name": "stdout",
     "output_type": "stream",
     "text": [
      "Reversed string is :-  nahor\n"
     ]
    }
   ],
   "source": [
    "## 3. Given a string, reverse the order of characters using string slicing and print\n",
    "##    the reversed string.\n",
    "\n",
    "str = input(\"Enter your name/any sentence you like :- \\n \")\n",
    "str2 = str[len(str):0:-1] + str[0]\n",
    "print(\"Reversed string is :- \",str2)"
   ]
  },
  {
   "cell_type": "code",
   "execution_count": 13,
   "id": "97789bd7-4a7f-418b-b6e0-411c20cb7873",
   "metadata": {},
   "outputs": [
    {
     "name": "stdin",
     "output_type": "stream",
     "text": [
      "Enter your name/any sentence you like :- \n",
      "  rar\n"
     ]
    },
    {
     "name": "stdout",
     "output_type": "stream",
     "text": [
      "rar is a palindrome\n"
     ]
    }
   ],
   "source": [
    "##  4. Write a program that takes a string as input and checks if it is a palindrome\n",
    "##     (reads the same forwards and backwards).\n",
    "\n",
    "str = input(\"Enter your name/any sentence you like :- \\n \")\n",
    "str2 = str[len(str):0:-1] + str[0]\n",
    "if(str == str2):\n",
    "    print(f\"{str} is a palindrome\")\n",
    "else:\n",
    "    print(\"Not a palindrome\")"
   ]
  },
  {
   "cell_type": "code",
   "execution_count": 14,
   "id": "ebd258f7-26b6-46ec-bafe-464a9dccae21",
   "metadata": {
    "tags": []
   },
   "outputs": [
    {
     "name": "stdin",
     "output_type": "stream",
     "text": [
      "Enter any word/sentence you want to like :-  i like pizza\n"
     ]
    },
    {
     "name": "stdout",
     "output_type": "stream",
     "text": [
      "String without spaces is :-  ilikepizza\n"
     ]
    }
   ],
   "source": [
    "##  5. Create a program that takes a string as input and removes all the spaces from\n",
    "##     it. Print the modified string without spaces.\n",
    "\n",
    "str = input(\"Enter any word/sentence you want to like :- \")\n",
    "modified_str = str.replace(\" \", \"\")\n",
    "\n",
    "print(\"String without spaces is :- \", modified_str)"
   ]
  },
  {
   "cell_type": "code",
   "execution_count": null,
   "id": "2ac68f22-269b-4d7b-a3fa-30e655147eff",
   "metadata": {},
   "outputs": [],
   "source": []
  }
 ],
 "metadata": {
  "kernelspec": {
   "display_name": "Python 3 (ipykernel)",
   "language": "python",
   "name": "python3"
  },
  "language_info": {
   "codemirror_mode": {
    "name": "ipython",
    "version": 3
   },
   "file_extension": ".py",
   "mimetype": "text/x-python",
   "name": "python",
   "nbconvert_exporter": "python",
   "pygments_lexer": "ipython3",
   "version": "3.11.4"
  }
 },
 "nbformat": 4,
 "nbformat_minor": 5
}
