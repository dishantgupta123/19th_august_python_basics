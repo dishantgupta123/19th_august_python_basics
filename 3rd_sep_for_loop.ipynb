{
 "cells": [
  {
   "cell_type": "code",
   "execution_count": null,
   "id": "662f6e1c-ced3-4500-91fd-d8997f820ab1",
   "metadata": {
    "tags": []
   },
   "outputs": [],
   "source": [
    "#1. Write a Python program to print the numbers from 1 to 10 using a `for` loop.\n",
    "for i in range(1, 11):\n",
    "    print(i)     ###range(start, stop, step)  used to print the numbers in some sequence..."
   ]
  },
  {
   "cell_type": "code",
   "execution_count": null,
   "id": "b9b919b0-64e2-437b-8b88-4136a04ccd81",
   "metadata": {},
   "outputs": [],
   "source": [
    "#2. Create a program that calculates the sum of all numbers in a list using a `for` loop.\n",
    "def sum_list(list):\n",
    "    sum = 0\n",
    "    for item in list:\n",
    "        sum = sum + item\n",
    "    return sum\n",
    "list1 = [2, 4, 5, 6, 7, 9, 45]   ## cpnsider following list of some random numbers\n",
    "print(f\"Sum of elements of {list1} is\", sum_list(list1))"
   ]
  },
  {
   "cell_type": "code",
   "execution_count": null,
   "id": "2f881da2-1c1c-45cb-be42-f0192fcdb32c",
   "metadata": {
    "tags": []
   },
   "outputs": [],
   "source": [
    "#3. Write a program to print the characters of a string in reverse order using a `for` loop.\n",
    "def print_reverse(str):\n",
    "    str = str[::-1]\n",
    "    for ch in str:\n",
    "        print(ch)\n",
    "str = input(\"Enter any word :- \")\n",
    "print(f\"Characters of string {str} in reverse order is:-\")\n",
    "print_reverse(str)"
   ]
  },
  {
   "cell_type": "code",
   "execution_count": null,
   "id": "a09b47d6-185b-4c7f-9309-e7bbbf9243d7",
   "metadata": {
    "tags": []
   },
   "outputs": [],
   "source": [
    "#4. Develop a program that finds the factorial of a given number using a `for` loop.\n",
    "def fact_num(num):\n",
    "    prod = 1\n",
    "    for i in range(1, num+1):\n",
    "        prod = prod*i\n",
    "    return prod\n",
    "num = int(input(\"Enter an integer value(>0):-\"))\n",
    "print(f\"factorial of {num} is:\", fact_num(num))"
   ]
  },
  {
   "cell_type": "code",
   "execution_count": null,
   "id": "117e30c8-13f7-4655-a9a5-ef96bd2eeea7",
   "metadata": {
    "tags": []
   },
   "outputs": [],
   "source": [
    "#5. Create a program to print the multiplication table of a given number using a `for` loop.\n",
    "def multi_table(num):\n",
    "    for i in range(1, num+1):\n",
    "        print(num,\"X\",i,\"=\",num*i)\n",
    "\n",
    "multi_table(19)"
   ]
  },
  {
   "cell_type": "code",
   "execution_count": null,
   "id": "3aa354d0-78fe-4587-83cd-5db6da01db19",
   "metadata": {
    "tags": []
   },
   "outputs": [],
   "source": [
    "#6 6. Write a program that counts the number of even and odd numbers in a list using a `for` loop.\n",
    "marks = [95, 96, 99, 94, 92, 91]   ## consider this list\n",
    "marks_even_no = [i for i in marks if i%2 == 0]\n",
    "marks_odd_no = [i for i in marks if i%2 != 0]\n",
    "print(f\"Number of even numbers in {marks} is:\",len(marks_even_no))\n",
    "print(f\"Number of odd numbers in {marks} is:\", len(marks_odd_no))\n"
   ]
  },
  {
   "cell_type": "code",
   "execution_count": null,
   "id": "c6e14e37-6f25-4f88-84f6-d75c6b0ee18a",
   "metadata": {
    "tags": []
   },
   "outputs": [],
   "source": [
    "#7. Develop a program that prints the squares of numbers from 1 to 5 using a `for` loop.\n",
    "for i in range(1, 6):\n",
    "    print(i*i)    ### simply using range(start, stop, step) functions ..."
   ]
  },
  {
   "cell_type": "code",
   "execution_count": null,
   "id": "38f4354f-c120-4905-b822-c42802008a3e",
   "metadata": {
    "tags": []
   },
   "outputs": [],
   "source": [
    "#8. Create a program to find the length of a string without using the `len()` function.\n",
    "def find_length(str):\n",
    "    if(str == \" \"):\n",
    "        return 0\n",
    "    elif(str == str[0]):\n",
    "        return 1\n",
    "    else:\n",
    "        return 1 + find_length(str[1:])\n",
    "\n",
    "str = \"dishant gupta\"\n",
    "print(f\"Length of string {str} is:\", find_length(str))"
   ]
  },
  {
   "cell_type": "code",
   "execution_count": null,
   "id": "b26a368d-4061-4e52-ba51-5c94074d858a",
   "metadata": {
    "tags": []
   },
   "outputs": [],
   "source": [
    "#9. Write a program that calculates the average of a list of numbers using a `for` loop.\n",
    "def average_list(list):\n",
    "    sum = 0\n",
    "    for item in list:\n",
    "        sum = sum + item\n",
    "    average = sum / len(list)\n",
    "    return average\n",
    "marks = [45,56,67,78,89,90]\n",
    "print(f\"average of {marks} is:\",average_list(marks))"
   ]
  },
  {
   "cell_type": "code",
   "execution_count": 3,
   "id": "00312e85-1f26-4e46-ac47-0f13e0dccdb3",
   "metadata": {},
   "outputs": [],
   "source": [
    "#10. Develop a program that prints the first `n` Fibonacci numbers using a `for` loop.\n",
    "def fibonacci_num(num):\n",
    "    while i<= num:\n",
    "        i = 0\n",
    "        if num == 0 or num == 1:\n",
    "            return 1\n",
    "        else:\n",
    "            print(fibonacci_num(i))\n",
    "            return fibonacci_num(num-1) + fibonacci_num(num-2)\n",
    "        i = i+1\n",
    "    print(\"Fibonacci series upto 10 is given by :\")\n",
    "    print(fibonacci_num(10), end = \" \")"
   ]
  },
  {
   "cell_type": "code",
   "execution_count": null,
   "id": "4398a441-723b-4b82-ac01-108ea84edafe",
   "metadata": {
    "tags": []
   },
   "outputs": [],
   "source": [
    "#Intermediate Level:\n",
    "#11. Write a program to check if a given list contains any duplicates using a `for` loop.\n",
    "def duplicate_item(list):\n",
    "    l1 = []\n",
    "    for item in list:\n",
    "        if item in l1:\n",
    "            return True\n",
    "        l1.append(item)\n",
    "        return False\n",
    "list1 = [97, 99, 99, 67, 89, 67]\n",
    "duplicate_item(list1)"
   ]
  },
  {
   "cell_type": "code",
   "execution_count": null,
   "id": "d9c071e8-7691-4e0b-b007-ffcd6a41fa35",
   "metadata": {
    "tags": []
   },
   "outputs": [],
   "source": [
    "#12. Create a program that prints the prime numbers in a given range using a `for` loop.\n",
    "def is_prime(num):\n",
    "    if num<=1 :\n",
    "        return False\n",
    "    elif num > 1:\n",
    "        for i in range(2, int(num**0.5) +1):\n",
    "            if num % i == 0:\n",
    "                return False\n",
    "    return True \n",
    "\n",
    "def print_prime_no(n ,m):\n",
    "    print(f\"Prime number between {n} and {m} is:\")\n",
    "    for number in range(n, m+1):\n",
    "        if is_prime(number):\n",
    "            print(number, \" \")\n",
    "### n -> start index   and ,m-> end index       \n",
    "n = int(input(\"Enter starting point of range:- \"))\n",
    "m = int(input(\"Enter ending point of range:- \"))\n",
    "print_prime_no(n, m)\n",
    "    "
   ]
  },
  {
   "cell_type": "code",
   "execution_count": null,
   "id": "18398a84-bcf1-4c33-acff-82b853970d95",
   "metadata": {
    "tags": []
   },
   "outputs": [],
   "source": [
    "#13. Develop a program that counts the number of vowels in a string using a `for` loop.\n",
    "str = input(\"Enter a string:_ \")\n",
    "count = 0\n",
    "str = str.lower()\n",
    "for item in str:\n",
    "    if(item == 'a' or item == 'e' or item == 'i' or item == 'o' or item == 'u'):\n",
    "        count = count + 1\n",
    "print(f\"Number of vowels in {str} is:\",count)"
   ]
  },
  {
   "cell_type": "code",
   "execution_count": null,
   "id": "b0bc628b-9b11-4ea6-aede-5f9c332f6118",
   "metadata": {},
   "outputs": [],
   "source": [
    "# Write a program to find the maximum element in a 2D list using a nested `for` loop.\n",
    "# Example 2D list\n",
    "two_d_list = [\n",
    "    [1, 5, 3],\n",
    "    [9, 2, 6],\n",
    "    [4, 7, 8]\n",
    "]\n",
    "\n",
    "# Initialize max_element with the minimum possible value\n",
    "max_element = float('-inf')\n",
    "\n",
    "# Iterate through each sublist in the 2D list\n",
    "for sublist in two_d_list:\n",
    "    # Iterate through each element in the sublist\n",
    "    for element in sublist:\n",
    "        # Compare each element with the current max_element\n",
    "        if element > max_element:\n",
    "            max_element = element\n",
    "\n",
    "# Display the original 2D list and the maximum element found\n",
    "print(\"Original 2D List:\")\n",
    "for sublist in two_d_list:\n",
    "    print(sublist)\n",
    "print(\"Maximum Element in the 2D List:\", max_element)\n"
   ]
  },
  {
   "cell_type": "code",
   "execution_count": null,
   "id": "7be5aec5-eff3-4ebd-9c20-4144edfec4af",
   "metadata": {},
   "outputs": [],
   "source": [
    "#15. Create a program that removes all occurrences of a specific element from a list using a `for` loop.\n",
    "def remove_element(nums, val):\n",
    "    for num in nums[:]:  # Iterate over a copy of the list to avoid modifying it while looping\n",
    "        if num == val:\n",
    "            nums.remove(num)\n",
    "\n",
    "# Example usage:\n",
    "my_list = [1, 2, 3, 4, 2, 5, 2]\n",
    "element_to_remove = 2\n",
    "\n",
    "print(\"Original List:\", my_list)\n",
    "remove_element(my_list, element_to_remove)\n",
    "print(\"List after removing element\", element_to_remove, \":\", my_list)\n"
   ]
  },
  {
   "cell_type": "code",
   "execution_count": null,
   "id": "635da216-7442-41ff-8623-82d58c990d37",
   "metadata": {
    "tags": []
   },
   "outputs": [],
   "source": [
    "#16. Develop a program that generates a multiplication table for numbers from 1 to 5 using a nested `for` loop.\n",
    "for i in range(1, 6):    ## outer loop for multiplication table from 1 to 5\n",
    "    print(f\"Multiplication table of {i} :-\")\n",
    "    for j in range(1, 11):        ### inner loop for multiplication up to 10.\n",
    "        result = i*j\n",
    "        print(f\"{i} X {j} = {result}\")\n",
    "        "
   ]
  },
  {
   "cell_type": "code",
   "execution_count": null,
   "id": "355af639-2e0b-4a79-8f1c-2626e47ddf45",
   "metadata": {
    "tags": []
   },
   "outputs": [],
   "source": [
    "#17. Write a program that converts a list of Fahrenheit temperatures to Celsius using a `for` loop.\n",
    "def feh_list_cel(list):        ## list of temperatures in F given \n",
    "    l1 = []\n",
    "    for i in list:                        ##iterated and then each element of list converted into celsius by using formula...\n",
    "        j =int( (i-32)*(5/9))\n",
    "        l1.append(j)\n",
    "    \n",
    "    return l1\n",
    "\n",
    "fah_list = [34, 56, 67, 78, 89]\n",
    "print(\"list in fahrenheit :\", fah_list)\n",
    "celsius_list = feh_list_cel(fah_list)\n",
    "print(f\"List in celsius given by {celsius_list}\")"
   ]
  },
  {
   "cell_type": "code",
   "execution_count": null,
   "id": "9871e9fd-159a-4169-a23f-855dbee21c0e",
   "metadata": {
    "tags": []
   },
   "outputs": [],
   "source": [
    "#18. Create a program to print the common elements from two lists using a `for` loop.\n",
    "def print_common_elements(list1, list2):\n",
    "    print(\"Common elements are:- \")\n",
    "    for i in list1:\n",
    "        for j in list2:\n",
    "            if(i == j):\n",
    "                yield i\n",
    "\n",
    "list1 = [3, 4, 5, 6, 7, 8]\n",
    "list2 = [4, 7, 8, 67, 34]\n",
    "for item in print_common_elements(list1, list2):\n",
    "    print(item)"
   ]
  },
  {
   "cell_type": "code",
   "execution_count": null,
   "id": "048bd68a-20d3-403e-843e-594fc1ac65d8",
   "metadata": {
    "tags": []
   },
   "outputs": [],
   "source": [
    "#19. Develop a program that prints the pattern of right-angled triangles using a `for` loop. Use ‘*’ to draw the\n",
    "#     pattern\n",
    "rows = 5  # Number of rows in the triangle\n",
    "\n",
    "for i in range(1, rows + 1):  # Loop to iterate through each row\n",
    "    for j in range(1, i + 1):  # Loop to print '*' in each row\n",
    "        print(\"*\", end=\" \")  # Print '*' without a newline\n",
    "    print()  # Move to the next line after each row is printed\n"
   ]
  },
  {
   "cell_type": "code",
   "execution_count": null,
   "id": "deb0c364-bbfe-458d-96c8-b7773cc5bece",
   "metadata": {
    "tags": []
   },
   "outputs": [],
   "source": [
    "#20. Write a program to find the greatest common divisor (GCD) of two numbers using a `for` loop.\n",
    "a = int(input(\"Enter a number:-\"))\n",
    "b = int(input(\"Enter other number:-\"))\n",
    "for i in range(1, min(a,b) +1):\n",
    "    if(a%i == 0 and b%i == 0):\n",
    "        gcd = i\n",
    "print(f\"GCD of {a} and {b} is:\",gcd)"
   ]
  },
  {
   "cell_type": "code",
   "execution_count": 3,
   "id": "6fbf4a9e-169d-4127-abac-b8ea69acf7fb",
   "metadata": {},
   "outputs": [
    {
     "name": "stdout",
     "output_type": "stream",
     "text": [
      "Numbers: [123, 456, 789, 321]\n",
      "Sum of digits for each number: [6, 15, 24, 6]\n"
     ]
    }
   ],
   "source": [
    "#21. Create a program that calculates the sum of the digits of numbers in a list using a list comprehension. \n",
    "# List comprehensions in Python provide a concise way to create lists.\n",
    "# They allow you to generate a new list by applying an expression to each item in an existing iterable.\n",
    "\n",
    "# Basic Syntax:\n",
    "# The basic structure of a list comprehension is: [expression for item in iterable if condition]\n",
    "def sum_of_digits(num_list):\n",
    "    # Function to calculate the sum of digits of a number\n",
    "    return [sum(int(digit) for digit in str(num)) for num in num_list]\n",
    "\n",
    "# Example list of numbers\n",
    "numbers = [123, 456, 789, 321]\n",
    "\n",
    "# Calculate the sum of digits for each number in the list\n",
    "sums = sum_of_digits(numbers)\n",
    "print(\"Numbers:\", numbers)\n",
    "print(\"Sum of digits for each number:\", sums)\n"
   ]
  },
  {
   "cell_type": "code",
   "execution_count": 4,
   "id": "e55d8bba-2db1-4d10-be3b-ed58f112fda1",
   "metadata": {},
   "outputs": [
    {
     "name": "stdout",
     "output_type": "stream",
     "text": [
      "Enter a number to find its prime factors: 56\n",
      "Prime factors of 56: [2, 2, 2, 7]\n"
     ]
    }
   ],
   "source": [
    "#22. Write a program to find the prime factors of a given number using a `for` loop and list comprehension.\n",
    "def prime_factors(n):\n",
    "    factors = []\n",
    "    divisor = 2\n",
    "\n",
    "    while n > 1:\n",
    "        for divisor in range(2, n + 1):\n",
    "            if n % divisor == 0:\n",
    "                factors.append(divisor)\n",
    "                n //= divisor\n",
    "                break\n",
    "\n",
    "    return factors\n",
    "\n",
    "# Get the number from the user\n",
    "number = int(input(\"Enter a number to find its prime factors: \"))\n",
    "\n",
    "# Calculate and display the prime factors of the number\n",
    "factors = prime_factors(number)\n",
    "print(f\"Prime factors of {number}: {factors}\")\n"
   ]
  },
  {
   "cell_type": "code",
   "execution_count": 5,
   "id": "a5bc10c7-3f96-48b3-8f85-e0b34432c77a",
   "metadata": {},
   "outputs": [
    {
     "name": "stdout",
     "output_type": "stream",
     "text": [
      "Original List: [1, 2, 2, 3, 4, 4, 5, 6, 6, 7, 7, 7]\n",
      "Unique Elements List: [1, 2, 3, 4, 5, 6, 7]\n"
     ]
    }
   ],
   "source": [
    "#23. Develop a program that extracts unique elements from a list and stores them in a new list using a list\n",
    "#     comprehension.\n",
    "# Example list with duplicate elements\n",
    "original_list = [1, 2, 2, 3, 4, 4, 5, 6, 6, 7, 7, 7]\n",
    "\n",
    "# Extracting unique elements using list comprehension\n",
    "unique_elements = list(set([x for x in original_list]))\n",
    "\n",
    "# Display the original list and the list with unique elements\n",
    "print(\"Original List:\", original_list)\n",
    "print(\"Unique Elements List:\", unique_elements)\n"
   ]
  },
  {
   "cell_type": "code",
   "execution_count": 7,
   "id": "09b8b00d",
   "metadata": {},
   "outputs": [
    {
     "name": "stdout",
     "output_type": "stream",
     "text": [
      "Enter the limit to generate palindromic numbers up to: 90\n",
      "Palindromic numbers up to 90:\n",
      "[0, 1, 2, 3, 4, 5, 6, 7, 8, 9, 11, 22, 33, 44, 55, 66, 77, 88]\n"
     ]
    }
   ],
   "source": [
    "#24. Create a program that generates a list of all palindromic numbers up to a specified limit using a list comprehension \n",
    "def is_palindrome(num):\n",
    "    return str(num) == str(num)[::-1]\n",
    "\n",
    "def palindromic_numbers(limit):\n",
    "    return [num for num in range(limit + 1) if is_palindrome(num)]\n",
    "\n",
    "# Get the limit from the user\n",
    "limit = int(input(\"Enter the limit to generate palindromic numbers up to: \"))\n",
    "\n",
    "# Generate and display the list of palindromic numbers up to the specified limit\n",
    "palindromes = palindromic_numbers(limit)\n",
    "print(f\"Palindromic numbers up to {limit}:\")\n",
    "print(palindromes)\n"
   ]
  },
  {
   "cell_type": "code",
   "execution_count": 8,
   "id": "2698bef0",
   "metadata": {},
   "outputs": [
    {
     "name": "stdout",
     "output_type": "stream",
     "text": [
      "Original Nested List: [[1, 2, 3], [4, 5], [6, [7, 8], 9]]\n",
      "Flattened List: [1, 2, 3, 4, 5, 6, [7, 8], 9]\n"
     ]
    }
   ],
   "source": [
    "#25. Write a program to flatten a nested list using list comprehension.\n",
    "# Example nested list\n",
    "nested_list = [[1, 2, 3], [4, 5], [6, [7, 8], 9]]\n",
    "\n",
    "# Flatten the nested list using list comprehension\n",
    "flattened_list = [element for sublist in nested_list for element in (sublist if isinstance(sublist, list) else [sublist])]\n",
    "\n",
    "# Display the original nested list and the flattened list\n",
    "print(\"Original Nested List:\", nested_list)\n",
    "print(\"Flattened List:\", flattened_list)\n"
   ]
  },
  {
   "cell_type": "code",
   "execution_count": null,
   "id": "bd90df22",
   "metadata": {},
   "outputs": [],
   "source": [
    "#26. Develop a program that computes the sum of even and odd numbers in a list separately using list comprehension.\n",
    "#27. Create a program that generates a list of squares of odd numbers between 1 and 10 using list\n",
    "#26.\n",
    "import functools\n",
    "l = [1,2,3,4,5,6,7,8,9,10]\n",
    "\n",
    "sum_even_nos =lambda l: functools.reduce(lambda a,b : a+b, [i for i in l if i%2 == 0])\n",
    "sum_odd_nos = lambda l: functools.reduce(lambda a,b : a+b, [i for i in l if i%2 != 0])\n",
    "print(f\"Sum of even numbers is {sum_even_nos(l)}\")\n",
    "print(f\"Sum of odd numbers is {sum_odd_nos(l)}\")\n",
    "\n",
    "#27.\n",
    "list_sq_odd_nos = list(map(lambda a : a*a, [i for i in range(1,11) if i%2 != 0]))\n",
    "print(f\"List of square of odd numbers is :- {list_sq_odd_nos}\")"
   ]
  },
  {
   "cell_type": "code",
   "execution_count": null,
   "id": "67c620a1",
   "metadata": {},
   "outputs": [],
   "source": [
    "# 28. Write a program that combines two lists into a dictionary using list comprehension.\n",
    "# 29. Develop a program that extracts the vowels from a string and stores them in a list using list comprehension.\n",
    "# 30. Create a program that removes all non-numeric characters from a list of strings using list comprehension.\n",
    "#28.\n",
    "combined_dict = lambda l1, l2: {l1[i] : l2[i] for i in range(min(len(l1), len(l2)))}\n",
    "print(f\"Combined dictionary :- {combined_dict(['a', 'b', 'c','d'], [1,2,3])}\")\n",
    "#29.\n",
    "vowels = ['a', 'e','i','o','u','A','E','I','O','U']\n",
    "vowels_list = lambda str: [str[i] for i in range(len(str)) if str[i] in vowels]\n",
    "print(f\"List of vowels in a string {str} is {vowels_list('I like pizza')}\")\n",
    "#30.\n",
    "# List of strings containing numeric and non-numeric characters\n",
    "string_list = ['123', 'abc456', '789xyz']\n",
    "\n",
    "# Remove non-numeric characters using list comprehension\n",
    "numeric_only = [''.join(filter(str.isdigit, string)) for string in string_list]\n",
    "\n",
    "print(numeric_only)\n"
   ]
  },
  {
   "cell_type": "code",
   "execution_count": 1,
   "id": "849c5b19",
   "metadata": {},
   "outputs": [
    {
     "name": "stdout",
     "output_type": "stream",
     "text": [
      "Enter an outer limit till which you want prime numbers:-25\n",
      "All prime numbers upto 25 is :\n",
      "2 3 5 7 11 13 17 19 23 "
     ]
    }
   ],
   "source": [
    "# Challenge Level:\n",
    "# 31. Write a program to generate a list of prime numbers using the Sieve of Eratosthenes algorithm and list comprehension.\n",
    "# The Sieve of Eratosthenes is an ancient algorithm used to find all prime numbers up to a specified limit.\n",
    "# It's particularly efficient for generating a list of primes within a given range.\n",
    "\n",
    "# Here's an explanation of the algorithm:\n",
    "# Initialization: Create a list of boolean values, initially all set to True, representing numbers from 0 to the limit \n",
    "#                 we want to find primes within. Set the values at indices 0 and 1 to False since 0 and 1 are not prime numbers.\n",
    "#Iteration through Numbers: Start with the first prime number, 2. Mark all multiples of 2 as False in the list, \n",
    "#                           except for 2 itself. Then, move to the next number (3) and if it's marked as True, \n",
    "#                     mark all its multiples as False. Continue this process for each number up to the square root of the limit.\n",
    "#Generating the List of Primes: Finally, create a list of numbers that are marked as True. \n",
    "#                                These numbers are the primes within the specified range.\n",
    "\n",
    "num = int(input(\"Enter an outer limit till which you want prime numbers:-\"))\n",
    "prime = [i for i in range(num+1)]   ### creating list [0,1, 2,  ....., 6] if num is 5\n",
    "prime[0] = 0\n",
    "prime[1] = 0   ### iniptialisinf first two elements 0 as 0 and 1 are non prime numbers\n",
    "p = 2\n",
    "while p*p <= num:\n",
    "    # if prime[p] is not changed then it is a prime number\n",
    "    if p != 0:\n",
    "        ### updates all multiples of p to be zero\n",
    "        for i in range(p*2, num+1, p):\n",
    "            prime[i] = 0\n",
    "    p = p+1\n",
    "print(\"All prime numbers upto\",num,\"is :\")\n",
    "for i in range(len(prime)):\n",
    "    if prime[i] != 0:\n",
    "        print(prime[i], end = \" \")"
   ]
  },
  {
   "cell_type": "code",
   "execution_count": 6,
   "id": "3516b391",
   "metadata": {},
   "outputs": [
    {
     "name": "stdout",
     "output_type": "stream",
     "text": [
      "Enter a limit:- 25\n",
      "pythagorian triplets are :- [(3, 4, 5), (5, 12, 13), (6, 8, 10), (7, 24, 25), (8, 15, 17), (9, 12, 15), (12, 16, 20), (15, 20, 25)]\n"
     ]
    }
   ],
   "source": [
    "# 32. Create a program that generates a list of all Pythagorean triplets up to a specified limit using list comprehension.\n",
    "def pythagorian_triplets(limit):\n",
    "    triplets = [(a,b,c) for a in range(1, limit+1) for b in range(a, limit+1) \n",
    "                for c in range(b+1, limit+1) if a**2 + b**2 == c**2]\n",
    "    return triplets\n",
    "limit = int(input('Enter a limit:- '))\n",
    "print(f\"pythagorian triplets are :- {pythagorian_triplets(limit)}\")"
   ]
  },
  {
   "cell_type": "code",
   "execution_count": 8,
   "id": "0544ff97",
   "metadata": {},
   "outputs": [
    {
     "name": "stdout",
     "output_type": "stream",
     "text": [
      "[(1, 'a'), (1, 'b'), (1, 'c'), (2, 'a'), (2, 'b'), (2, 'c'), (3, 'a'), (3, 'b'), (3, 'c')]\n"
     ]
    }
   ],
   "source": [
    "# 33. Develop a program that generates a list of all possible combinations of two lists using list comprehension.\n",
    "l1 = [1,2,3]\n",
    "l2 = ['a', 'b', 'c']\n",
    "combined_list = [(x,y) for x in l1 for y in l2]\n",
    "\n",
    "print(combined_list)"
   ]
  },
  {
   "cell_type": "code",
   "execution_count": 4,
   "id": "01575991",
   "metadata": {},
   "outputs": [
    {
     "name": "stdout",
     "output_type": "stream",
     "text": [
      "object of type 'NoneType' has no len()\n",
      " Mean of [23, 34, 12, 56, 67, 34, 56, 78, 34, 23] is 41.7, \n",
      "           Median is None, mode is 34\n"
     ]
    }
   ],
   "source": [
    "#34. Write a program that calculates the mean, median, and mode of a list of numbers using list comprehension.\n",
    "import functools as ft\n",
    "def mean_list(l):\n",
    "    sum = ft.reduce(lambda a,b : a+b, l)\n",
    "    mean = sum/len(l)\n",
    "    return mean\n",
    "def median_list(l):\n",
    "    l = l.sort()\n",
    "    try:\n",
    "        if len(l)%2 == 0:\n",
    "            median = (int(l[len(l)/2]) + int([(len(l)/2)-1]))/2\n",
    "            return median\n",
    "        elif len(l)%2 != 0:\n",
    "            median = int(l[(len(l)-1)/2])\n",
    "            return median\n",
    "    except Exception as e:\n",
    "        print(e)\n",
    "\n",
    "def mode_list(l):\n",
    "    max_count = (0, 0)\n",
    "    for num in l:\n",
    "        occurances = l.count(num)\n",
    "        if occurances > max_count[0] :\n",
    "            max_count = (occurances, num)\n",
    "    return max_count[1]\n",
    "l = [23, 34, 12, 56, 67, 34, 56, 78, 34, 23]\n",
    "print(f\"\"\" Mean of {l} is {mean_list(l)}, \n",
    "           Median is {median_list(l)}, mode is {mode_list(l)}\"\"\")"
   ]
  },
  {
   "cell_type": "code",
   "execution_count": 2,
   "id": "bc411343",
   "metadata": {},
   "outputs": [
    {
     "name": "stdout",
     "output_type": "stream",
     "text": [
      "Enter the number of rows for Pascal's triangle: 5\n",
      "                                       1                                        \n",
      "                                      1 1                                       \n",
      "                                     1 2 1                                      \n",
      "                                    1 3 3 1                                     \n",
      "                                   1 4 6 4 1                                    \n"
     ]
    }
   ],
   "source": [
    "#35. Create a program that generates Pascal's triangle up to a specified number of rows using list comprehension.\n",
    "def generate_pascals_triangle(rows):\n",
    "    triangle = [[1] * (i + 1) for i in range(rows)]\n",
    "    for i in range(rows):\n",
    "        for j in range(1, i):\n",
    "            triangle[i][j] = triangle[i - 1][j - 1] + triangle[i - 1][j]\n",
    "    return triangle\n",
    "\n",
    "def display_pascals_triangle(triangle):\n",
    "    for row in triangle:\n",
    "        print(\" \".join(map(str, row)).center(80))\n",
    "\n",
    "# Get the number of rows from the user\n",
    "num_rows = int(input(\"Enter the number of rows for Pascal's triangle: \"))\n",
    "\n",
    "# Generate and display Pascal's triangle\n",
    "pascals_triangle = generate_pascals_triangle(num_rows)\n",
    "display_pascals_triangle(pascals_triangle)\n"
   ]
  },
  {
   "cell_type": "code",
   "execution_count": 6,
   "id": "2b22fe8b",
   "metadata": {},
   "outputs": [
    {
     "name": "stdout",
     "output_type": "stream",
     "text": [
      "List of factorials of numbers is :  [1, 2, 6, 24, 120]\n",
      "List of sum of digits of numbers of factorials :- [1, 2, 6, 6, 3]\n"
     ]
    }
   ],
   "source": [
    "#36. Develop a program that calculates the sum of the digits of a factorial of numbers from 1 to 5 using list comprehension.\n",
    "factorial_n = lambda n : 1 if n==1 or n==1 else n*factorial_n(n-1)\n",
    "list_factorials = [factorial_n(i) for i in range(1,6)]   ### list from factorial(1) to factorial(6)\n",
    "### using map() functiion we can chage each of element of list as per desired operation.\n",
    "list_sum_of_digits = list(map(lambda number: sum(int(digit) for digit in str(number)),list_factorials))\n",
    "print(\"List of factorials of numbers is : \",list_factorials)\n",
    "print(\"List of sum of digits of numbers of factorials :-\", list_sum_of_digits)"
   ]
  },
  {
   "cell_type": "code",
   "execution_count": 7,
   "id": "299f6d6d",
   "metadata": {},
   "outputs": [
    {
     "name": "stdout",
     "output_type": "stream",
     "text": [
      "Enter any sentence i like pizza\n",
      "Longest word in ['i', 'like', 'pizza'] is pizza\n"
     ]
    }
   ],
   "source": [
    "#37. Write a program that finds the longest word in a sentence using list comprehension.\n",
    "### creating list of length of numbers\n",
    "str = input(\"Enter any sentence \")\n",
    "str = str.split()\n",
    "longest_word = max(str, key = lambda word : len(word))\n",
    "print(f\"Longest word in {str} is {longest_word}\")"
   ]
  },
  {
   "cell_type": "code",
   "execution_count": null,
   "id": "30215a3c",
   "metadata": {},
   "outputs": [],
   "source": [
    "# 38. Create a program that filters a list of strings to include only those with more than three vowels using list\n",
    "# comprehension.\n",
    "str = input('Enter any sentence:')\n",
    "str = str.split()\n",
    "print(\"Initial string is:- \",str)\n",
    "def count_vowels(word):\n",
    "    count = 0\n",
    "    word = word.lower()\n",
    "    for item in word:\n",
    "        if item in ['a','e','i','o','u']:\n",
    "            count = count +1\n",
    "    return count \n",
    "filtered_list = [string for string in str if count_vowels(string) > 3]\n",
    "print(filtered_list)"
   ]
  },
  {
   "cell_type": "code",
   "execution_count": 1,
   "id": "bb7f1796",
   "metadata": {},
   "outputs": [
    {
     "name": "stdout",
     "output_type": "stream",
     "text": [
      "Enter a number:-56\n",
      "List of numbers [1, 2, 3, 4, 5, 6, 7, 8, 9, 10, 11, 12, 13, 14, 15, 16, 17, 18, 19, 20, 21, 22, 23, 24, 25, 26, 27, 28, 29, 30, 31, 32, 33, 34, 35, 36, 37, 38, 39, 40, 41, 42, 43, 44, 45, 46, 47, 48, 49, 50, 51, 52, 53, 54, 55]\n",
      "List of sum_of digits [1, 2, 3, 4, 5, 6, 7, 8, 9, 1, 2, 3, 4, 5, 6, 7, 8, 9, 10, 2, 3, 4, 5, 6, 7, 8, 9, 10, 11, 3, 4, 5, 6, 7, 8, 9, 10, 11, 12, 4, 5, 6, 7, 8, 9, 10, 11, 12, 13, 5, 6, 7, 8, 9, 10]\n",
      "Sum of elements of list of sum of digits :-  370\n"
     ]
    }
   ],
   "source": [
    "#39. Develop a program that calculates the sum of the digits of numbers from 1 to 1000 using list\n",
    "# comprehension.\n",
    "try:\n",
    "    num = int(input(\"Enter a number:-\"))\n",
    "except Exception as e:\n",
    "    print(e)\n",
    "l_numbers = [i for i in range(1, num)]\n",
    "l_s_of_digit = list(map(lambda number : sum(int(digit) for digit in str(number)) ,l_numbers))\n",
    "print(\"List of numbers\", l_numbers)\n",
    "print(\"List of sum_of digits\", l_s_of_digit)\n",
    "s = 0\n",
    "for i in l_s_of_digit:\n",
    "    s = s+i\n",
    "print(\"Sum of elements of list of sum of digits :- \",s)"
   ]
  },
  {
   "cell_type": "code",
   "execution_count": 2,
   "id": "342c5ee0",
   "metadata": {},
   "outputs": [
    {
     "name": "stdout",
     "output_type": "stream",
     "text": [
      "List of prime palindrome numbers is  [2, 3, 5, 7, 11, 101, 131, 151, 181, 191, 313, 353, 373, 383, 727, 757, 787, 797, 919, 929]\n"
     ]
    }
   ],
   "source": [
    "#40. Write a program that generates a list of prime palindromic numbers using list comprehension.  \n",
    "def is_prime(num):\n",
    "    if num<2:\n",
    "        return False\n",
    "    for i in range(2, int(num**0.5) + 1):\n",
    "        if num%i == 0:\n",
    "            return False\n",
    "    return True\n",
    "list_prime_palindrome = [num for num in range(2,1000) if is_prime(num) and str(num) == str(num)[::-1]]\n",
    "print(\"List of prime palindrome numbers is \",list_prime_palindrome)"
   ]
  },
  {
   "cell_type": "code",
   "execution_count": null,
   "id": "92bc12fa",
   "metadata": {},
   "outputs": [],
   "source": []
  },
  {
   "cell_type": "code",
   "execution_count": null,
   "id": "607a9c73",
   "metadata": {},
   "outputs": [],
   "source": []
  }
 ],
 "metadata": {
  "kernelspec": {
   "display_name": "Python 3 (ipykernel)",
   "language": "python",
   "name": "python3"
  },
  "language_info": {
   "codemirror_mode": {
    "name": "ipython",
    "version": 3
   },
   "file_extension": ".py",
   "mimetype": "text/x-python",
   "name": "python",
   "nbconvert_exporter": "python",
   "pygments_lexer": "ipython3",
   "version": "3.11.4"
  }
 },
 "nbformat": 4,
 "nbformat_minor": 5
}
