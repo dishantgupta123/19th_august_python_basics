{
 "cells": [
  {
   "cell_type": "code",
   "execution_count": null,
   "id": "d4d8fb56-4114-4df5-970d-6b16117fbf66",
   "metadata": {},
   "outputs": [],
   "source": [
    "## Basic If-Else Statements:\n",
    "## \n",
    "\n",
    "# 1. Write a Python program to check if a given number is positive or negative.\n",
    "\n",
    "# 2. Create a program that determines if a person is eligible to vote based on their age.\n",
    "\n",
    "# 3. Develop a program to find the maximum of two numbers using if-else statements.\n",
    "\n",
    "# 4. Write a Python script to classify a given year as a leap year or not.\n",
    "\n",
    "# 5. Create a program that checks whether a character is a vowel or a consonant.\n",
    "\n",
    "# 6. Implement a program to determine whether a given number is even or odd.\n",
    "\n",
    "# 7. Write a Python function to calculate the absolute value of a number without using the `abs()` function.\n",
    "\n",
    "# 8. Develop a program that determines the largest of three given numbers using if-else statements.\n",
    "\n",
    "# 9. Create a program that checks if a given string is a palindrome.\n",
    "\n",
    "# 10. Write a Python program to calculate the grade based on a student's score."
   ]
  },
  {
   "cell_type": "code",
   "execution_count": 2,
   "id": "b921772f-73d7-4461-bca6-71bf76572688",
   "metadata": {
    "tags": []
   },
   "outputs": [
    {
     "name": "stdin",
     "output_type": "stream",
     "text": [
      "Enter any number:-  -34\n"
     ]
    },
    {
     "name": "stdout",
     "output_type": "stream",
     "text": [
      "-34 is negative number\n"
     ]
    }
   ],
   "source": [
    "#1 .\n",
    "num = int(input(\"Enter any number:- \"))\n",
    "if(num >= 0):\n",
    "    if(num == 0):\n",
    "        print(num,\"is zero\")\n",
    "    else:\n",
    "        print(num,\"is positive\")\n",
    "else:\n",
    "    print(num,\"is negative number\")"
   ]
  },
  {
   "cell_type": "code",
   "execution_count": 3,
   "id": "a3b413c9-18b4-403c-b6b8-2597ab3047a4",
   "metadata": {
    "tags": []
   },
   "outputs": [
    {
     "name": "stdin",
     "output_type": "stream",
     "text": [
      "Enter your current age:-  19\n"
     ]
    },
    {
     "name": "stdout",
     "output_type": "stream",
     "text": [
      "person is eligible to vote\n"
     ]
    }
   ],
   "source": [
    "#2.\n",
    "age = int(input(\"Enter your current age:- \"))\n",
    "if(age <18):\n",
    "    print(\"person is not elligible \")\n",
    "else:\n",
    "    print(\"person is eligible to vote\")\n",
    "    "
   ]
  },
  {
   "cell_type": "code",
   "execution_count": 1,
   "id": "619d7fd3-777c-4164-91ab-22657c580962",
   "metadata": {
    "tags": []
   },
   "outputs": [
    {
     "name": "stdin",
     "output_type": "stream",
     "text": [
      "Enter two numbers with space 2 3\n"
     ]
    },
    {
     "name": "stdout",
     "output_type": "stream",
     "text": [
      "2 is less than 3\n"
     ]
    }
   ],
   "source": [
    "#3.\n",
    "num = input(\"Enter two numbers with space\")\n",
    "x = int(num.split()[0])\n",
    "y = int(num.split()[1])\n",
    "if(x >= y):\n",
    "    if(x >y):\n",
    "        print(x,\"is greater than\",y)\n",
    "    else:\n",
    "        print(x,\"is equal to\",y)\n",
    "else:\n",
    "    print(x,\"is less than\",y)\n"
   ]
  },
  {
   "cell_type": "code",
   "execution_count": 4,
   "id": "b9541c50-2941-4620-a26e-138b70e98372",
   "metadata": {},
   "outputs": [
    {
     "name": "stdin",
     "output_type": "stream",
     "text": [
      "Enter number of days in a current year:-  45\n"
     ]
    },
    {
     "name": "stdout",
     "output_type": "stream",
     "text": [
      "Invalid days\n"
     ]
    }
   ],
   "source": [
    "#4.\n",
    "days = int(input(\"Enter number of days in a current year:- \"))\n",
    "if(days == 365):\n",
    "    print(\"normal year\")\n",
    "elif(days == 366):\n",
    "    print(\"Leap year\")\n",
    "else:\n",
    "    print(\"Invalid days\")"
   ]
  },
  {
   "cell_type": "code",
   "execution_count": 5,
   "id": "36fcf939-10a5-424b-ac95-80cda34cdaa9",
   "metadata": {
    "tags": []
   },
   "outputs": [
    {
     "name": "stdin",
     "output_type": "stream",
     "text": [
      "Enter any character(a-z),(A-Z):-  q\n"
     ]
    },
    {
     "name": "stdout",
     "output_type": "stream",
     "text": [
      "q is a consonent\n"
     ]
    }
   ],
   "source": [
    "#5.\n",
    "ch = input(\"Enter any character(a-z),(A-Z):- \")\n",
    "ch = ch.lower()\n",
    "if(ch == 'a' or ch == 'e' or ch == 'i' or ch == 'o' or ch == 'u'):\n",
    "    print(ch, \"is a vowel\")\n",
    "else:\n",
    "    print(ch, \"is a consonent\")"
   ]
  },
  {
   "cell_type": "code",
   "execution_count": 6,
   "id": "6d5047dd-d93d-4a9a-a0d9-fad889ed4f9a",
   "metadata": {
    "tags": []
   },
   "outputs": [
    {
     "name": "stdin",
     "output_type": "stream",
     "text": [
      "Enter number to find whether it is even or odd:-  34\n"
     ]
    },
    {
     "name": "stdout",
     "output_type": "stream",
     "text": [
      "34 is a even number\n"
     ]
    }
   ],
   "source": [
    "#6:\n",
    "num = int(input(\"Enter number to find whether it is even or odd:- \"))\n",
    "if(num% 2 == 0):\n",
    "    print(num, \"is a even number\")\n",
    "else:\n",
    "    print(num, \"is a odd number\")"
   ]
  },
  {
   "cell_type": "code",
   "execution_count": 1,
   "id": "462d09bf-b374-4fe6-b552-200b4fa75435",
   "metadata": {},
   "outputs": [
    {
     "name": "stdin",
     "output_type": "stream",
     "text": [
      "Enter number:-  -34\n"
     ]
    },
    {
     "name": "stdout",
     "output_type": "stream",
     "text": [
      "absolute value of -34.0 is 34.0\n"
     ]
    }
   ],
   "source": [
    "#7.\n",
    "num = float(input(\"Enter number:- \"))\n",
    "if(num >= 0):\n",
    "    print(\"absolute value of\",num,\"is\",num)\n",
    "else:\n",
    "    print(\"absolute value of\",num,\"is\",-num)"
   ]
  },
  {
   "cell_type": "code",
   "execution_count": 4,
   "id": "7d3c4804-2b85-4b8e-8bb1-f0520a762929",
   "metadata": {
    "tags": []
   },
   "outputs": [
    {
     "name": "stdin",
     "output_type": "stream",
     "text": [
      "Enter the three numbers with space (example is 2 3 4) 4 78 4\n"
     ]
    },
    {
     "name": "stdout",
     "output_type": "stream",
     "text": [
      "78  is a largest number\n"
     ]
    }
   ],
   "source": [
    "#8.\n",
    "x = input(\"Enter the three numbers with space (example is 2 3 4)\")\n",
    "num1 = int(x.split()[0])\n",
    "num2 = int(x.split()[1])\n",
    "num3 = int(x.split()[2])\n",
    "if(num1 > num2 and num1 > num3):\n",
    "    print(num1,\" is a largest number\")\n",
    "elif(num2>num1 and num2 > num3):\n",
    "          print(num2,\" is a largest number\")\n",
    "elif(num3 > num1 and num3 > num2):\n",
    "          print(num3,\" is a greatest number\")"
   ]
  },
  {
   "cell_type": "code",
   "execution_count": 1,
   "id": "9f29ed16-678c-4085-8af4-99be5f18b2e5",
   "metadata": {},
   "outputs": [
    {
     "name": "stdout",
     "output_type": "stream",
     "text": [
      "abccba is a palindrome\n"
     ]
    }
   ],
   "source": [
    "#9:\n",
    "str  = \"abccba\"\n",
    "if str == str[::-1]:\n",
    "    print(f\"{str} is a palindrome\")\n",
    "else:\n",
    "    print(f\"{str} is not a palindrome\")\n"
   ]
  },
  {
   "cell_type": "code",
   "execution_count": 3,
   "id": "cf5eca5d",
   "metadata": {},
   "outputs": [
    {
     "name": "stdout",
     "output_type": "stream",
     "text": [
      "Enter the student's score out of 100 :-94\n",
      "A grade\n"
     ]
    }
   ],
   "source": [
    "#10.\n",
    "try:\n",
    "    score = int(input(\"Enter the student's score out of 100 :-\"))\n",
    "except Exception as e:\n",
    "    print(e)\n",
    "if score >= 90:\n",
    "    print(\"A grade\")\n",
    "elif 85 <= score < 90:\n",
    "    print(\"AB grade\")\n",
    "elif 75 <= score < 85:\n",
    "    print(\"B grade\")\n",
    "elif score < 35:\n",
    "    print(\"Fail\")\n",
    "else:\n",
    "    print(\"Pass\")"
   ]
  },
  {
   "cell_type": "markdown",
   "id": "8e47daad",
   "metadata": {},
   "source": [
    "## Nested If-Else Statements:"
   ]
  },
  {
   "cell_type": "code",
   "execution_count": 4,
   "id": "3781a750",
   "metadata": {},
   "outputs": [
    {
     "name": "stdout",
     "output_type": "stream",
     "text": [
      "Enter the first number:45\n",
      "Enter the second number:34\n",
      "Enter the third number:23\n",
      "Largest number among 45,34 and 23 is 45\n"
     ]
    }
   ],
   "source": [
    "# 11. Write a program to find the largest among three numbers using nested if-else statements.\n",
    "largest_num = lambda num1, num2, num3 : num1 if (num1>num2 and num1>num3) else num2 if(num2>num1 and num2>num3) else num3\n",
    "num1 = int(input(\"Enter the first number:\"))\n",
    "num2 = int(input(\"Enter the second number:\"))\n",
    "num3 = int(input(\"Enter the third number:\"))\n",
    "print(f\"Largest number among {num1},{num2} and {num3} is {largest_num(num1,num2,num3)}\")"
   ]
  },
  {
   "cell_type": "code",
   "execution_count": 9,
   "id": "df47e9d2",
   "metadata": {},
   "outputs": [
    {
     "name": "stdout",
     "output_type": "stream",
     "text": [
      "Enter the first side length of triangle:-34\n",
      "Enter the second side length of triangle:-45\n",
      "Enter the third side length of triangle:-34\n",
      "Given triangle is isosceles triangle\n"
     ]
    }
   ],
   "source": [
    "# 12. Implement a program to determine if a triangle is equilateral, isosceles, or scalene.\n",
    "def triangle(a,b,c):\n",
    "    if a == b and b== c and c == a:\n",
    "        print(\"Given triangle is equilateral triangle\")\n",
    "    elif a != b and b!= c and c!=a:\n",
    "        print(\"Given triangle is scalene triangle\")\n",
    "    else:\n",
    "        print(\"Given triangle is isosceles triangle\")\n",
    "try:\n",
    "    a = int(input(\"Enter the first side length of triangle:-\"))\n",
    "    b = int(input(\"Enter the second side length of triangle:-\"))  \n",
    "    c = int(input(\"Enter the third side length of triangle:-\"))  \n",
    "except Exception as e:\n",
    "    print(e)\n",
    "triangle(a,b,c)"
   ]
  },
  {
   "cell_type": "code",
   "execution_count": 10,
   "id": "c9ad8322",
   "metadata": {},
   "outputs": [
    {
     "name": "stdout",
     "output_type": "stream",
     "text": [
      "2024 is a leap year but not a century year.\n"
     ]
    }
   ],
   "source": [
    "# 13. Develop a program that checks if a year is a leap year and also if it is a century year\n",
    "def is_leap_year(year):\n",
    "    if year % 4 == 0:\n",
    "        if year % 100 == 0:\n",
    "            if year % 400 == 0:\n",
    "                return True, True  # Leap year and century year\n",
    "            else:\n",
    "                return True, False  # Leap year but not a century year\n",
    "        else:\n",
    "            return True, False  # Leap year but not a century year\n",
    "    else:\n",
    "        return False, False  # Not a leap year and not a century year\n",
    "\n",
    "\n",
    "year_to_check = 2024  # Change this year to test different cases\n",
    "\n",
    "leap, century = is_leap_year(year_to_check)\n",
    "\n",
    "if leap and century:\n",
    "    print(f\"{year_to_check} is a leap year and a century year.\")\n",
    "elif leap:\n",
    "    print(f\"{year_to_check} is a leap year but not a century year.\")\n",
    "else:\n",
    "    print(f\"{year_to_check} is neither a leap year nor a century year.\")\n"
   ]
  },
  {
   "cell_type": "code",
   "execution_count": 11,
   "id": "e6c8f2e4",
   "metadata": {},
   "outputs": [
    {
     "name": "stdout",
     "output_type": "stream",
     "text": [
      "Enter any number:0\n",
      "0.0 is zero\n"
     ]
    }
   ],
   "source": [
    "# 14. Write a Python script to determine if a number is positive, negative, or zero.\n",
    "num = float(input(\"Enter any number:\"))\n",
    "if num>0:\n",
    "    print(num, \"is positive number\")\n",
    "elif num<0:\n",
    "    print(num,\"is a negative number\")\n",
    "elif num == 0:\n",
    "    print(num,\"is zero\")\n",
    "else:\n",
    "    print(\"Invalid input\")"
   ]
  },
  {
   "cell_type": "code",
   "execution_count": 12,
   "id": "3479d2be",
   "metadata": {},
   "outputs": [
    {
     "name": "stdout",
     "output_type": "stream",
     "text": [
      "Enter your age:_ 56\n",
      "Not a teenager\n"
     ]
    }
   ],
   "source": [
    "# 15. Create a program to check if a person is a teenager (between 13 and 19 years old).\n",
    "age = int(input(\"Enter your age:_ \"))\n",
    "if 13 <= age <= 19 :\n",
    "    print(\"person is a teenager\")\n",
    "else:\n",
    "    print(\"Not a teenager\")"
   ]
  },
  {
   "cell_type": "code",
   "execution_count": 13,
   "id": "8b482bff",
   "metadata": {},
   "outputs": [
    {
     "name": "stdout",
     "output_type": "stream",
     "text": [
      "Enter any angle:-45\n",
      "45.0 is acute angle\n"
     ]
    }
   ],
   "source": [
    "# 16. Develop a program that determines the type of angle based on its measure (acute, obtuse, or right).\n",
    "def angle(alpha):\n",
    "    if alpha > 0 and alpha <90:\n",
    "        print(alpha,\"is acute angle\")\n",
    "    elif alpha >90 and alpha <180:\n",
    "        print(alpha,\"is obtuse angle\")\n",
    "    elif alpha == 90:\n",
    "        print(alpha, \"is right angle\")\n",
    "    else:\n",
    "        print(alpha,\"is neither of three \")\n",
    "alpha = float(input(\"Enter any angle:-\"))\n",
    "angle(alpha)"
   ]
  },
  {
   "cell_type": "code",
   "execution_count": 15,
   "id": "22367b4b",
   "metadata": {},
   "outputs": [
    {
     "name": "stdout",
     "output_type": "stream",
     "text": [
      "Enter coefficient of x^2 term:-1\n",
      "Enter coefficient of x term:--2\n",
      "Enter coefficient of constant term:-1\n",
      "quadratic equaton has real and equal roots 1.0 and 1.0\n"
     ]
    }
   ],
   "source": [
    "# 17. Write a Python program to calculate the roots of a quadratic equation.\n",
    "a = float(input(\"Enter coefficient of x^2 term:-\"))\n",
    "b = float(input(\"Enter coefficient of x term:-\"))\n",
    "c = float(input(\"Enter coefficient of constant term:-\"))\n",
    "D = ((b*b) - 4*a*c)**0.5  ### discriminant\n",
    "alpha = (-b + D)/(2*a)\n",
    "betta = (-b-D)/(2*a)\n",
    "if b*b > 4*a*c:\n",
    "    print(f\"Quadratic equation has real and distinct roots {alpha} and {betta}\")\n",
    "elif b*b < 4*a*c:\n",
    "    print(f\"Quadratic equation has imaginary roots.\")\n",
    "elif b*b == 4*a*c:\n",
    "    print(f\"quadratic equaton has real and equal roots {alpha} and {betta}\")"
   ]
  },
  {
   "cell_type": "code",
   "execution_count": 16,
   "id": "2286f439",
   "metadata": {},
   "outputs": [
    {
     "name": "stdout",
     "output_type": "stream",
     "text": [
      "Enter a number (1-7) to determine the day of the week: 4\n",
      "The day corresponding to number 4 is: Thursday\n"
     ]
    }
   ],
   "source": [
    "# 18. Implement a program to determine the day of the week based on a user-provided number (1 for Monday, 2for Tuesday, etc.).\n",
    "def get_day_of_week(number):\n",
    "    days = {\n",
    "        1: \"Monday\",\n",
    "        2: \"Tuesday\",\n",
    "        3: \"Wednesday\",\n",
    "        4: \"Thursday\",\n",
    "        5: \"Friday\",\n",
    "        6: \"Saturday\",\n",
    "        7: \"Sunday\"\n",
    "    }\n",
    "\n",
    "    return days.get(number, \"Invalid day\")\n",
    "\n",
    "user_input = int(input(\"Enter a number (1-7) to determine the day of the week: \"))\n",
    "\n",
    "day_of_week = get_day_of_week(user_input)\n",
    "print(f\"The day corresponding to number {user_input} is: {day_of_week}\")\n"
   ]
  },
  {
   "cell_type": "code",
   "execution_count": 17,
   "id": "6b0d860c",
   "metadata": {},
   "outputs": [
    {
     "name": "stdout",
     "output_type": "stream",
     "text": [
      "2000 is a leap year and evenly divisible by 400.\n"
     ]
    }
   ],
   "source": [
    "# 19. Create a program that determines if a year is a leap year and also if it is evenly divisible by 400.\n",
    "def is_leap_year(year):\n",
    "    leap = False\n",
    "    if year % 4 == 0:\n",
    "        leap = True\n",
    "        if year % 100 == 0:\n",
    "            leap = False\n",
    "            if year % 400 == 0:\n",
    "                leap = True\n",
    "    return leap\n",
    "\n",
    "# You can change the year_to_check variable to test different years\n",
    "year_to_check = 2000\n",
    "\n",
    "if is_leap_year(year_to_check):\n",
    "    print(f\"{year_to_check} is a leap year and evenly divisible by 400.\")\n",
    "else:\n",
    "    print(f\"{year_to_check} is not a leap year or not evenly divisible by 400.\")\n"
   ]
  },
  {
   "cell_type": "code",
   "execution_count": 20,
   "id": "3c8807c0",
   "metadata": {},
   "outputs": [
    {
     "name": "stdout",
     "output_type": "stream",
     "text": [
      "Enter a number:56\n",
      "56 is not a prime number.\n"
     ]
    }
   ],
   "source": [
    "# 20. Develop a program that checks if a given number is prime or not using nested if-else statements.\n",
    "def is_prime(number):\n",
    "    if number <= 1:\n",
    "        return False\n",
    "    elif number <= 3:\n",
    "        return True\n",
    "    elif number % 2 == 0 or number % 3 == 0:\n",
    "        return False\n",
    "    else:\n",
    "        i = 5\n",
    "        while i * i <= number:\n",
    "            if number % i == 0 or number % (i + 2) == 0:\n",
    "                return False\n",
    "            i += 6\n",
    "        return True\n",
    "\n",
    "# You can change the number_to_check variable to test different numbers\n",
    "num = int(input(\"Enter a number:\"))\n",
    "\n",
    "if is_prime(num):\n",
    "    print(f\"{num} is a prime number.\")\n",
    "else:\n",
    "    print(f\"{num} is not a prime number.\")\n"
   ]
  },
  {
   "cell_type": "markdown",
   "id": "6dd99f5b",
   "metadata": {},
   "source": [
    "## Elif Statements:"
   ]
  },
  {
   "cell_type": "code",
   "execution_count": 21,
   "id": "8cf7437e",
   "metadata": {},
   "outputs": [
    {
     "name": "stdout",
     "output_type": "stream",
     "text": [
      "For a score of 75, the grade assigned is: C\n"
     ]
    }
   ],
   "source": [
    "#21. Write a Python program to assign grades based on different ranges of scores using elif statements.\n",
    "def assign_grade(score):\n",
    "    if score >= 90:\n",
    "        grade = 'A'\n",
    "    elif score >= 80:\n",
    "        grade = 'B'\n",
    "    elif score >= 70:\n",
    "        grade = 'C'\n",
    "    elif score >= 60:\n",
    "        grade = 'D'\n",
    "    else:\n",
    "        grade = 'F'\n",
    "    return grade\n",
    "\n",
    "# You can change the score_to_check variable to test different scores\n",
    "score_to_check = 75\n",
    "\n",
    "result = assign_grade(score_to_check)\n",
    "print(f\"For a score of {score_to_check}, the grade assigned is: {result}\")\n"
   ]
  },
  {
   "cell_type": "code",
   "execution_count": 22,
   "id": "3ec5210a",
   "metadata": {},
   "outputs": [
    {
     "name": "stdout",
     "output_type": "stream",
     "text": [
      "The angles 60, 60, 60 form: Acute-angled triangle\n"
     ]
    }
   ],
   "source": [
    "#22. Implement a program to determine the type of a triangle based on its angles.\n",
    "def triangle_type(angle1, angle2, angle3):\n",
    "    if angle1 + angle2 + angle3 == 180:\n",
    "        if angle1 == 90 or angle2 == 90 or angle3 == 90:\n",
    "            return \"Right-angled triangle\"\n",
    "        elif angle1 < 90 and angle2 < 90 and angle3 < 90:\n",
    "            return \"Acute-angled triangle\"\n",
    "        else:\n",
    "            return \"Obtuse-angled triangle\"\n",
    "    else:\n",
    "        return \"Not a valid triangle\"\n",
    "\n",
    "# You can change the angles to test different triangle types\n",
    "angle1 = 60\n",
    "angle2 = 60\n",
    "angle3 = 60\n",
    "\n",
    "result = triangle_type(angle1, angle2, angle3)\n",
    "print(f\"The angles {angle1}, {angle2}, {angle3} form: {result}\")\n"
   ]
  },
  {
   "cell_type": "code",
   "execution_count": 23,
   "id": "e043b935",
   "metadata": {},
   "outputs": [
    {
     "name": "stdout",
     "output_type": "stream",
     "text": [
      "For a weight of 70kg and height of 1.75m, the BMI category is: Normal\n"
     ]
    }
   ],
   "source": [
    "#23. Develop a program to categorize a given person's BMI into underweight, normal, overweight, or obese using elif statements.\n",
    "def categorize_bmi(weight_kg, height_m):\n",
    "    bmi = weight_kg / (height_m ** 2)\n",
    "    \n",
    "    if bmi < 18.5:\n",
    "        return \"Underweight\"\n",
    "    elif 18.5 <= bmi < 25:\n",
    "        return \"Normal\"\n",
    "    elif 25 <= bmi < 30:\n",
    "        return \"Overweight\"\n",
    "    else:\n",
    "        return \"Obese\"\n",
    "\n",
    "# You can change the weight and height to calculate and categorize BMI differently\n",
    "weight = 70  # in kilograms\n",
    "height = 1.75  # in meters\n",
    "\n",
    "result = categorize_bmi(weight, height)\n",
    "print(f\"For a weight of {weight}kg and height of {height}m, the BMI category is: {result}\")\n"
   ]
  },
  {
   "cell_type": "code",
   "execution_count": 24,
   "id": "3bc09b8f",
   "metadata": {},
   "outputs": [
    {
     "name": "stdout",
     "output_type": "stream",
     "text": [
      "The number 7 is: Positive\n"
     ]
    }
   ],
   "source": [
    "#24. Create a program that determines whether a given number is positive, negative, or zero using elif statements.\n",
    "def check_number(number):\n",
    "    if number > 0:\n",
    "        return \"Positive\"\n",
    "    elif number < 0:\n",
    "        return \"Negative\"\n",
    "    else:\n",
    "        return \"Zero\"\n",
    "\n",
    "# You can change the number_to_check variable to test different numbers\n",
    "number_to_check = 7\n",
    "\n",
    "result = check_number(number_to_check)\n",
    "print(f\"The number {number_to_check} is: {result}\")\n"
   ]
  },
  {
   "cell_type": "code",
   "execution_count": 25,
   "id": "23f089b3",
   "metadata": {},
   "outputs": [
    {
     "name": "stdout",
     "output_type": "stream",
     "text": [
      "The character 'A' is: Uppercase\n"
     ]
    }
   ],
   "source": [
    "\n",
    "#25. Write a Python script to determine the type of a character (uppercase, lowercase, or special) using elif statements.\n",
    "def char_type(character):\n",
    "    if character.isupper():\n",
    "        return \"Uppercase\"\n",
    "    elif character.islower():\n",
    "        return \"Lowercase\"\n",
    "    elif not character.isalpha() and not character.isdigit():\n",
    "        return \"Special character\"\n",
    "    else:\n",
    "        return \"Other character type\"\n",
    "\n",
    "# You can change the char_to_check variable to test different characters\n",
    "char_to_check = 'A'\n",
    "\n",
    "result = char_type(char_to_check)\n",
    "print(f\"The character '{char_to_check}' is: {result}\")\n"
   ]
  },
  {
   "cell_type": "code",
   "execution_count": 28,
   "id": "3568af2d",
   "metadata": {},
   "outputs": [
    {
     "name": "stdout",
     "output_type": "stream",
     "text": [
      "Enter the purchase amount to check:345\n",
      "For a purchase amount of Rs345, the discounted price is: Rs327.75\n"
     ]
    }
   ],
   "source": [
    "#26. Implement a program to calculate the discounted price based on different purchase amounts using elif statements.\n",
    "def calculate_discounted_price(purchase_amount):\n",
    "    if purchase_amount >= 1000:\n",
    "        discount = 0.15  # 15% discount for purchase over $1000\n",
    "    elif purchase_amount >= 500:\n",
    "        discount = 0.1  # 10% discount for purchase over $500\n",
    "    elif purchase_amount >= 200:\n",
    "        discount = 0.05  # 5% discount for purchase over $200\n",
    "    else:\n",
    "        discount = 0  # No discount for purchase below $200\n",
    "\n",
    "    discounted_price = purchase_amount - (purchase_amount * discount)\n",
    "    return discounted_price\n",
    "\n",
    "# You can change the purchase_amount_to_check variable to test different purchase amounts\n",
    "purchase_amount_to_check = int(input(\"Enter the purchase amount to check:\"))\n",
    "\n",
    "result = calculate_discounted_price(purchase_amount_to_check)\n",
    "print(f\"For a purchase amount of Rs{purchase_amount_to_check}, the discounted price is: Rs{result:.2f}\")\n"
   ]
  },
  {
   "cell_type": "code",
   "execution_count": 29,
   "id": "2f8465d4",
   "metadata": {},
   "outputs": [
    {
     "name": "stdout",
     "output_type": "stream",
     "text": [
      "For 180 units consumption, the electricity bill is: $136.00\n"
     ]
    }
   ],
   "source": [
    "#27. Develop a program to calculate the electricity bill based on different consumption slabs using elif statements.\n",
    "def calculate_electricity_bill(units):\n",
    "    if units <= 50:\n",
    "        bill = units * 0.50\n",
    "    elif units <= 150:\n",
    "        bill = 25 + (units - 50) * 0.75\n",
    "    elif units <= 250:\n",
    "        bill = 100 + (units - 150) * 1.20\n",
    "    else:\n",
    "        bill = 220 + (units - 250) * 1.50\n",
    "\n",
    "    return bill\n",
    "\n",
    "# You can change the units_consumed variable to test different consumption amounts\n",
    "units_consumed = 180\n",
    "\n",
    "result = calculate_electricity_bill(units_consumed)\n",
    "print(f\"For {units_consumed} units consumption, the electricity bill is: ${result:.2f}\")\n"
   ]
  },
  {
   "cell_type": "code",
   "execution_count": 30,
   "id": "542e4356",
   "metadata": {},
   "outputs": [
    {
     "name": "stdout",
     "output_type": "stream",
     "text": [
      "The quadrilateral formed by given sides and angles is a: Rectangle\n"
     ]
    }
   ],
   "source": [
    "#28. Create a program to determine the type of quadrilateral based on its angles and sides using elif statements.\n",
    "def quadrilateral_type(sides, angles):\n",
    "    if all(angles[i] == 90 for i in range(4)):\n",
    "        return \"Rectangle\" if sides[0] == sides[1] == sides[2] == sides[3] else \"Square\"\n",
    "    elif sides[0] == sides[1] == sides[2] == sides[3]:\n",
    "        return \"Rhombus\"\n",
    "    elif sides[0] == sides[2] and sides[1] == sides[3]:\n",
    "        return \"Parallelogram\"\n",
    "    elif sides[0] == sides[1] == sides[2] == sides[3]:\n",
    "        return \"Trapezium\"\n",
    "    else:\n",
    "        return \"Quadrilateral\"\n",
    "\n",
    "# You can change the sides and angles to test different quadrilaterals\n",
    "side_lengths = [5, 5, 5, 5]  # Replace with actual side lengths\n",
    "angle_measurements = [90, 90, 90, 90]  # Replace with actual angles\n",
    "\n",
    "result = quadrilateral_type(side_lengths, angle_measurements)\n",
    "print(f\"The quadrilateral formed by given sides and angles is a: {result}\")\n"
   ]
  },
  {
   "cell_type": "code",
   "execution_count": 31,
   "id": "2ae3c74b",
   "metadata": {},
   "outputs": [
    {
     "name": "stdout",
     "output_type": "stream",
     "text": [
      "Enter number (1-12)4\n",
      "The season for month 4 is: Spring\n"
     ]
    }
   ],
   "source": [
    "#29. Write a Python script to determine the season based on a user-provided month using elif statements.\n",
    "def get_season(month):\n",
    "    if month in (1, 2, 12):             #### 1: jan, 2:feb, and so on till 12\n",
    "        return \"Winter\"\n",
    "    elif month in (3, 4, 5):\n",
    "        return \"Spring\"\n",
    "    elif month in (6, 7, 8):\n",
    "        return \"Summer\"\n",
    "    elif month in (9, 10, 11):\n",
    "        return \"Autumn\"\n",
    "    else:\n",
    "        return \"Invalid month\"\n",
    "\n",
    "# You can change the month_to_check variable to test different months\n",
    "month_to_check = int(input(\"Enter number (1-12)\"))\n",
    "\n",
    "result = get_season(month_to_check)\n",
    "print(f\"The season for month {month_to_check} is: {result}\")\n"
   ]
  },
  {
   "cell_type": "code",
   "execution_count": 32,
   "id": "9d5230b0",
   "metadata": {},
   "outputs": [
    {
     "name": "stdout",
     "output_type": "stream",
     "text": [
      "Enter a yeart:2024\n",
      "Enter month number:3\n",
      "The year 2024 is: Leap year\n",
      "The month 3 has: 31 days\n"
     ]
    }
   ],
   "source": [
    "#\\30. Implement a program to determine the type of a year (leap or common) and month (30 or 31 days) using elif statements.\n",
    "def check_year_type(year):\n",
    "    if (year % 4 == 0 and year % 100 != 0) or (year % 400 == 0):\n",
    "        return \"Leap year\"\n",
    "    else:\n",
    "        return \"Common year\"\n",
    "\n",
    "def check_month_days(month):\n",
    "    if month in (4, 6, 9, 11):\n",
    "        return 30\n",
    "    elif month == 2:\n",
    "        return 28\n",
    "    else:\n",
    "        return 31\n",
    "\n",
    "# You can change the year_to_check and month_to_check variables to test different years and months\n",
    "year_to_check = int(input(\"Enter a yeart:\"))\n",
    "month_to_check = int(input(\"Enter month number:\"))\n",
    "\n",
    "year_type = check_year_type(year_to_check)\n",
    "days_in_month = check_month_days(month_to_check)\n",
    "\n",
    "print(f\"The year {year_to_check} is: {year_type}\")\n",
    "print(f\"The month {month_to_check} has: {days_in_month} days\")\n"
   ]
  },
  {
   "cell_type": "markdown",
   "id": "e64ed0be",
   "metadata": {},
   "source": [
    "Basic Level:\n",
    "\n",
    " \n",
    "\n",
    "1. Write a Python program that checks if a given number is positive, negative, or zero.\n",
    "\n",
    "2. Create a program to determine if a person is eligible to vote based on their age.\n",
    "\n",
    "3. Write a program to find the maximum of two given numbers using conditional statements.\n",
    "\n",
    "4. Develop a program that calculates the grade of a student based on their exam score.\n",
    "\n",
    "5. Create a program that checks if a year is a leap year or not.\n",
    "\n",
    "6. Write a program to classify a triangle based on its sides' lengths.\n",
    "\n",
    "7. Build a program that determines the largest of three given numbers.\n",
    "\n",
    "8. Develop a program that checks whether a character is a vowel or a consonant.\n",
    "\n",
    "9. Create a program to calculate the total cost of a shopping cart based on discounts.\n",
    "\n",
    "10. Write a program that checks if a given number is even or odd.\n",
    "\n",
    " \n",
    "\n",
    "Intermediate Level:\n",
    "\n",
    " \n",
    "\n",
    "11. Write a program that calculates the roots of a quadratic equation .\n",
    "\n",
    "12. Create a program that determines the day of the week based on the day number (1-7).\n",
    "\n",
    "13. Develop a program that calculates the factorial of a given number using recursion.\n",
    "\n",
    "14. Write a program to find the largest among three numbers without using the `max()` function.\n",
    "\n",
    "15. Create a program that simulates a basic ATM transaction menu.\n",
    "\n",
    "16. Build a program that checks if a given string is a palindrome or not.\n",
    "\n",
    "17. Write a program that calculates the average of a list of numbers, excluding the smallest and largest values.\n",
    "\n",
    "18. Develop a program that converts a given temperature from Celsius to Fahrenheit.\n",
    "\n",
    "19. Create a program that simulates a basic calculator for addition, subtraction, multiplication, and division.\n",
    "\n",
    "20. Write a program that determines the roots of a cubic equation using the Cardano formula.\n",
    "\n",
    " \n",
    "\n",
    "Advanced Level:\n",
    "\n",
    " \n",
    "\n",
    "21. Create a program that calculates the income tax based on the user's income and tax brackets.\n",
    "\n",
    "22. Write a program that simulates a rock-paper-scissors game against the computer.\n",
    "\n",
    "23. Develop a program that generates a random password based on user preferences (length, complexity).\n",
    "\n",
    "24. Create a program that implements a simple text-based adventure game with branching scenarios.\n",
    "\n",
    "25. Build a program that solves a linear equation  for x, considering different cases.\n",
    "\n",
    "26. Write a program that simulates a basic quiz game with multiple-choice questions and scoring.\n",
    "\n",
    "27. Develop a program that determines whether a given year is a prime number or not.\n",
    "\n",
    "28. Create a program that sorts three numbers in ascending order using conditional statements.\n",
    "\n",
    "29. Build a program that determines the roots of a quartic equation using numerical methods.\n",
    "\n",
    "30. Write a program that calculates the BMI (Body Mass Index) and provides health recommendations based\n",
    "on the user's input.\n",
    "\n",
    " \n",
    "\n",
    "Challenge Level:\n",
    "\n",
    " \n",
    "\n",
    "31. Create a program that validates a password based on complexity rules (length, characters, etc.).\n",
    "\n",
    "32. Develop a program that performs matrix addition and subtraction based on user input.\n",
    "\n",
    "33. Write a program that calculates the greatest common divisor (GCD) of two numbers using the Euclidean\n",
    "algorithm.\n",
    "\n",
    "34. Build a program that performs matrix multiplication using nested loops and conditional statements.\n",
    "\n",
    "35. Create a program that simulates a basic text-based tic-tac-toe game against the computer.\n",
    "\n",
    "36. Write a program that generates Fibonacci numbers up to a specified term using iterative methods.\n",
    "\n",
    "37. Develop a program that calculates the nth term of the Fibonacci sequence using memoization.\n",
    "\n",
    "38. Create a program that generates a calendar for a given month and year using conditional statements.\n",
    "\n",
    "39. Build a program that simulates a basic text-based blackjack game against the computer.\n",
    "\n",
    "40. Write a program that generates the prime factors of a given number using trial division."
   ]
  },
  {
   "cell_type": "markdown",
   "id": "d425cb90",
   "metadata": {},
   "source": [
    "# Basic Level:-"
   ]
  },
  {
   "cell_type": "code",
   "execution_count": 33,
   "id": "4bb76a1c",
   "metadata": {},
   "outputs": [
    {
     "name": "stdout",
     "output_type": "stream",
     "text": [
      "Positive\n"
     ]
    }
   ],
   "source": [
    "#1.\n",
    "def check_number(number):\n",
    "    if number > 0:\n",
    "        return \"Positive\"\n",
    "    elif number < 0:\n",
    "        return \"Negative\"\n",
    "    else:\n",
    "        return \"Zero\"\n",
    "\n",
    "# Test with a number\n",
    "result = check_number(5)\n",
    "print(result)\n"
   ]
  },
  {
   "cell_type": "code",
   "execution_count": 34,
   "id": "4749f1b0",
   "metadata": {},
   "outputs": [
    {
     "name": "stdout",
     "output_type": "stream",
     "text": [
      "Eligible to vote\n"
     ]
    }
   ],
   "source": [
    "#2.\n",
    "def check_voting_eligibility(age):\n",
    "    if age >= 18:\n",
    "        return \"Eligible to vote\"\n",
    "    else:\n",
    "        return \"Not eligible to vote\"\n",
    "\n",
    "# Test with an age\n",
    "result = check_voting_eligibility(20)\n",
    "print(result)\n"
   ]
  },
  {
   "cell_type": "code",
   "execution_count": 36,
   "id": "9f3b64f8",
   "metadata": {},
   "outputs": [
    {
     "name": "stdout",
     "output_type": "stream",
     "text": [
      "25\n"
     ]
    }
   ],
   "source": [
    "#3.\n",
    "find_maximum = lambda a,b: a if a>b else b\n",
    "\n",
    "# Test with two numbers\n",
    "result = find_maximum(10, 25)\n",
    "print(result)\n"
   ]
  },
  {
   "cell_type": "code",
   "execution_count": 37,
   "id": "a7261a10",
   "metadata": {},
   "outputs": [
    {
     "name": "stdout",
     "output_type": "stream",
     "text": [
      "C\n"
     ]
    }
   ],
   "source": [
    "#4.\n",
    "def calculate_grade(score):\n",
    "    if score >= 90:\n",
    "        return \"A\"\n",
    "    elif score >= 80:\n",
    "        return \"B\"\n",
    "    elif score >= 70:\n",
    "        return \"C\"\n",
    "    elif score >= 60:\n",
    "        return \"D\"\n",
    "    else:\n",
    "        return \"F\"\n",
    "\n",
    "# Test with a score\n",
    "result = calculate_grade(75)\n",
    "print(result)\n"
   ]
  },
  {
   "cell_type": "code",
   "execution_count": 38,
   "id": "10f39e9c",
   "metadata": {},
   "outputs": [
    {
     "name": "stdout",
     "output_type": "stream",
     "text": [
      "Leap year\n"
     ]
    }
   ],
   "source": [
    "#5.\n",
    "def is_leap_year(year):\n",
    "    if (year % 4 == 0 and year % 100 != 0) or (year % 400 == 0):\n",
    "        return \"Leap year\"\n",
    "    else:\n",
    "        return \"Not a leap year\"\n",
    "\n",
    "# Test with a year\n",
    "result = is_leap_year(2024)\n",
    "print(result)\n"
   ]
  },
  {
   "cell_type": "code",
   "execution_count": 39,
   "id": "e89b8bf5",
   "metadata": {},
   "outputs": [
    {
     "name": "stdout",
     "output_type": "stream",
     "text": [
      "Equilateral triangle\n"
     ]
    }
   ],
   "source": [
    "#6.\n",
    "def check_triangle(a, b, c):\n",
    "    if a == b == c:\n",
    "        return \"Equilateral triangle\"\n",
    "    elif a == b or b == c or a == c:\n",
    "        return \"Isosceles triangle\"\n",
    "    else:\n",
    "        return \"Scalene triangle\"\n",
    "\n",
    "# Test with side lengths\n",
    "result = check_triangle(5, 5, 5)\n",
    "print(result)\n"
   ]
  },
  {
   "cell_type": "code",
   "execution_count": 40,
   "id": "f746f220",
   "metadata": {},
   "outputs": [
    {
     "name": "stdout",
     "output_type": "stream",
     "text": [
      "25\n"
     ]
    }
   ],
   "source": [
    "#7.\n",
    "def find_largest(a, b, c):\n",
    "    if a > b and a > c:\n",
    "        return a\n",
    "    elif b > a and b > c:\n",
    "        return b\n",
    "    else:\n",
    "        return c\n",
    "\n",
    "# Test with three numbers\n",
    "result = find_largest(10, 25, 15)\n",
    "print(result)\n"
   ]
  },
  {
   "cell_type": "code",
   "execution_count": 41,
   "id": "9e7efe2f",
   "metadata": {},
   "outputs": [
    {
     "name": "stdout",
     "output_type": "stream",
     "text": [
      "Vowel\n"
     ]
    }
   ],
   "source": [
    "#8.\n",
    "def check_vowel_or_consonant(character):\n",
    "    vowels = \"aeiouAEIOU\"\n",
    "    if character in vowels:\n",
    "        return \"Vowel\"\n",
    "    else:\n",
    "        return \"Consonant\"\n",
    "\n",
    "# Test with a character\n",
    "result = check_vowel_or_consonant('A')\n",
    "print(result)\n"
   ]
  },
  {
   "cell_type": "code",
   "execution_count": 42,
   "id": "5d0c8742",
   "metadata": {},
   "outputs": [
    {
     "name": "stdout",
     "output_type": "stream",
     "text": [
      "108.0\n"
     ]
    }
   ],
   "source": [
    "#9.\n",
    "def calculate_total_cost(cart_value):\n",
    "    if cart_value >= 100:\n",
    "        discount = 0.1 * cart_value  # 10% discount for purchases over $100\n",
    "        total_cost = cart_value - discount\n",
    "    else:\n",
    "        total_cost = cart_value\n",
    "    return total_cost\n",
    "\n",
    "# Test with cart value\n",
    "result = calculate_total_cost(120)\n",
    "print(result)\n"
   ]
  },
  {
   "cell_type": "code",
   "execution_count": 45,
   "id": "d542863a",
   "metadata": {},
   "outputs": [
    {
     "name": "stdout",
     "output_type": "stream",
     "text": [
      "Enter number:4\n",
      "4 is even number\n"
     ]
    }
   ],
   "source": [
    "#10.\n",
    "even_odd = lambda a : \"even\" if a%2 == 0 else \"odd\"\n",
    "a = int(input(\"Enter number:\"))\n",
    "print(a,\"is\",even_odd(a),\"number\")"
   ]
  },
  {
   "cell_type": "markdown",
   "id": "639fad89",
   "metadata": {},
   "source": [
    "# Intermediate level"
   ]
  },
  {
   "cell_type": "code",
   "execution_count": 1,
   "id": "91a4b867",
   "metadata": {},
   "outputs": [
    {
     "name": "stdout",
     "output_type": "stream",
     "text": [
      "Enter coefficient a: 3\n",
      "Enter coefficient b: 5\n",
      "Enter coefficient c: 8\n",
      "Roots of the equation: (-0.8333333333333334+1.4043582955293932j) and (-0.8333333333333334-1.4043582955293932j)\n"
     ]
    }
   ],
   "source": [
    "#11.\n",
    "a= float(input(\"Enter coefficient a: \"))\n",
    "b = float(input(\"Enter coefficient b: \"))\n",
    "c = float(input(\"Enter coefficient c: \"))\n",
    "\n",
    "discriminant = b**2 - 4*a*c\n",
    "\n",
    "if discriminant > 0:\n",
    "    root1 = (-b + (discriminant ** 0.5)) / (2*a)\n",
    "    root2 = (-b - (discriminant ** 0.5)) / (2*a)\n",
    "    print(\"Roots of the equation:\", root1, \"and\", root2)\n",
    "elif discriminant == 0:\n",
    "    root = -b / (2*a)\n",
    "    print(\"Root of the equation:\", root)\n",
    "else:\n",
    "    real_part = -b / (2*a)\n",
    "    imaginary_part = (-discriminant)**0.5 / (2*a)\n",
    "    print(\"Roots of the equation:\", complex(real_part, imaginary_part), \"and\", complex(real_part, -imaginary_part))\n",
    "\n"
   ]
  },
  {
   "cell_type": "code",
   "execution_count": 2,
   "id": "fac6f48f",
   "metadata": {},
   "outputs": [
    {
     "name": "stdout",
     "output_type": "stream",
     "text": [
      "Enter a number (1-7) to get the day of the week: 5\n",
      "Day of the week: Friday\n"
     ]
    }
   ],
   "source": [
    "#12.\n",
    "day_number = int(input(\"Enter a number (1-7) to get the day of the week: \"))\n",
    "\n",
    "if day_number == 1:\n",
    "    print(\"Day of the week: Monday\")\n",
    "elif day_number == 2:\n",
    "    print(\"Day of the week: Tuesday\")\n",
    "elif day_number == 3:\n",
    "    print(\"Day of the week: Wednesday\")\n",
    "elif day_number == 4:\n",
    "    print(\"Day of the week: Thursday\")\n",
    "elif day_number == 5:\n",
    "    print(\"Day of the week: Friday\")\n",
    "elif day_number == 6:\n",
    "    print(\"Day of the week: Saturday\")\n",
    "elif day_number == 7:\n",
    "    print(\"Day of the week: Sunday\")\n",
    "else:\n",
    "    print(\"Invalid day number\")\n"
   ]
  },
  {
   "cell_type": "code",
   "execution_count": 4,
   "id": "e69f4703",
   "metadata": {},
   "outputs": [
    {
     "name": "stdout",
     "output_type": "stream",
     "text": [
      "Enter a number to find its factorial: 7\n",
      "Factorial of 7 is: 5040\n"
     ]
    }
   ],
   "source": [
    "#13.\n",
    "try:\n",
    "    factorial = lambda n : 1 if n == 0 or n == 1 else n*factorial(n-1) \n",
    "except Exception as e:\n",
    "    print(e)\n",
    "num = int(input(\"Enter a number to find its factorial: \"))\n",
    "fact = factorial(num)\n",
    "print(\"Factorial of\", num, \"is:\", fact)\n"
   ]
  },
  {
   "cell_type": "code",
   "execution_count": 5,
   "id": "25c02a58",
   "metadata": {},
   "outputs": [
    {
     "name": "stdout",
     "output_type": "stream",
     "text": [
      "Enter first number: 5\n",
      "Enter second number: 7\n",
      "Enter third number: 0\n",
      "The largest number is: 7.0\n"
     ]
    }
   ],
   "source": [
    "#14.\n",
    "num1 = float(input(\"Enter first number: \"))\n",
    "num2 = float(input(\"Enter second number: \"))\n",
    "num3 = float(input(\"Enter third number: \"))\n",
    "\n",
    "if num1 >= num2:\n",
    "    if num1 >= num3:\n",
    "        largest = num1\n",
    "    else:\n",
    "        largest = num3\n",
    "else:\n",
    "    if num2 >= num3:\n",
    "        largest = num2\n",
    "    else:\n",
    "        largest = num3\n",
    "\n",
    "print(\"The largest number is:\", largest)\n"
   ]
  },
  {
   "cell_type": "code",
   "execution_count": null,
   "id": "4345c2db",
   "metadata": {},
   "outputs": [],
   "source": []
  },
  {
   "cell_type": "code",
   "execution_count": null,
   "id": "6789e96f",
   "metadata": {},
   "outputs": [],
   "source": []
  }
 ],
 "metadata": {
  "kernelspec": {
   "display_name": "Python 3 (ipykernel)",
   "language": "python",
   "name": "python3"
  },
  "language_info": {
   "codemirror_mode": {
    "name": "ipython",
    "version": 3
   },
   "file_extension": ".py",
   "mimetype": "text/x-python",
   "name": "python",
   "nbconvert_exporter": "python",
   "pygments_lexer": "ipython3",
   "version": "3.11.4"
  }
 },
 "nbformat": 4,
 "nbformat_minor": 5
}
